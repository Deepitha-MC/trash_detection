{
  "cells": [
    {
      "cell_type": "code",
      "execution_count": 1,
      "metadata": {
        "id": "6iZVq1Ggf6da"
      },
      "outputs": [],
      "source": [
        "import numpy as np\n",
        "from keras.applications.vgg16 import VGG16\n",
        "from keras.preprocessing import image\n",
        "from keras.applications.vgg16 import preprocess_input\n",
        "from IPython.display import clear_output\n",
        "\n",
        "import h5py\n",
        "import time\n",
        "import os"
      ]
    },
    {
      "cell_type": "code",
      "execution_count": 29,
      "metadata": {
        "id": "CKZ9-jmVGPAq",
        "outputId": "2c23c09b-6542-4adc-ff58-fe32193c0aec"
      },
      "outputs": [
        {
          "data": {
            "text/plain": [
              "1500"
            ]
          },
          "execution_count": 29,
          "metadata": {},
          "output_type": "execute_result"
        }
      ],
      "source": [
        "outputname = \"./taco_imgFeat_vgg16.h5\"\n",
        "imgDone = {}\n",
        "\n",
        "try:\n",
        "    f_out = h5py.File(outputname, \"r\")\n",
        "\n",
        "    for k in list(f_out.keys()):\n",
        "        imgDone[k] = 1\n",
        "\n",
        "    f_out.close()\n",
        "except:\n",
        "    pass\n",
        "\n",
        "len(imgDone)"
      ]
    },
    {
      "cell_type": "code",
      "execution_count": 18,
      "metadata": {
        "id": "L2GDdUG-3rlg"
      },
      "outputs": [],
      "source": [
        "# load pretrained model\n",
        "model = VGG16(weights=\"imagenet\", include_top=False)"
      ]
    },
    {
      "cell_type": "code",
      "execution_count": 19,
      "metadata": {
        "id": "CypyA_d854mI"
      },
      "outputs": [],
      "source": [
        "from keras.layers import Dense"
      ]
    },
    {
      "cell_type": "code",
      "execution_count": 20,
      "metadata": {
        "id": "zsOJQTf_GPAs"
      },
      "outputs": [],
      "source": [
        "def getEstimatedTime(done, doneTime, pending):\n",
        "    if done != 0:\n",
        "        return (doneTime*pending)/done\n",
        "    else:\n",
        "        return 0\n",
        "\n",
        "def progressBar(perc, startTime):\n",
        "    clear_output(wait=True)\n",
        "    print(\"[\",end=\"\")\n",
        "    for j in range(30):\n",
        "        if perc > (j+2)*int(100/30):\n",
        "            print(\"=\",end=\"\")\n",
        "        elif perc > (j+1)*int(100/30):\n",
        "            print(\">\",end=\"\")\n",
        "        else:\n",
        "            print(\".\",end=\"\")\n",
        "    print(\"] \"+str(round(perc,2))+\"%\\t\",end=\"\")\n",
        "    doneTime = time.time() - startTime\n",
        "    print(\"Est Time: \"+str(round(getEstimatedTime(perc, doneTime, 100-perc),2))+\"s\")"
      ]
    },
    {
      "cell_type": "code",
      "execution_count": 21,
      "metadata": {},
      "outputs": [
        {
          "data": {
            "text/plain": [
              "1500"
            ]
          },
          "execution_count": 21,
          "metadata": {},
          "output_type": "execute_result"
        }
      ],
      "source": [
        "img_list = []\n",
        "\n",
        "with open(\"trainKeys.txt\") as f:\n",
        "    img_list += [l[:-1] for l in f.readlines()]\n",
        "with open(\"testKeys.txt\") as f:\n",
        "    img_list += [l[:-1] for l in f.readlines()]\n",
        "\n",
        "len(img_list)"
      ]
    },
    {
      "cell_type": "code",
      "execution_count": 22,
      "metadata": {
        "id": "8nR9SmzeGPAt"
      },
      "outputs": [],
      "source": [
        "dataPath = \"./data/\"\n",
        "total = len(img_list)"
      ]
    },
    {
      "cell_type": "code",
      "execution_count": 23,
      "metadata": {
        "id": "Y8ZyVV3nGPAt",
        "outputId": "58ff2453-5bff-4fb8-9796-aebfc8e9d622"
      },
      "outputs": [
        {
          "name": "stdout",
          "output_type": "stream",
          "text": [
            "1500\n",
            "1500\n"
          ]
        }
      ],
      "source": [
        "final_img_list = []\n",
        "\n",
        "for k in img_list:\n",
        "    try:\n",
        "        imgDone[k]\n",
        "    except:\n",
        "        final_img_list.append(k)\n",
        "\n",
        "print(len(img_list))\n",
        "print(len(final_img_list))"
      ]
    },
    {
      "cell_type": "code",
      "execution_count": 24,
      "metadata": {
        "id": "4UsSu7pQGPAu"
      },
      "outputs": [],
      "source": [
        "img_list = final_img_list\n",
        "total = len(img_list)"
      ]
    },
    {
      "cell_type": "code",
      "execution_count": 25,
      "metadata": {
        "colab": {
          "base_uri": "https://localhost:8080/"
        },
        "collapsed": true,
        "id": "r16yGNDngw3T",
        "outputId": "1227b34c-3a40-4b1a-fcd7-5fd1c9ab84b0"
      },
      "outputs": [
        {
          "name": "stdout",
          "output_type": "stream",
          "text": [
            "[==============================] 100.0%\tEst Time: 0.0s\n"
          ]
        }
      ],
      "source": [
        "f_out = h5py.File(outputname, \"a\")\n",
        "\n",
        "t = []\n",
        "\n",
        "count = 0\n",
        "start = time.time()\n",
        "for item in img_list:\n",
        "    name = dataPath + item\n",
        "    img = image.load_img(name, target_size=(224, 224))\n",
        "    x = image.img_to_array(img)\n",
        "    x = np.expand_dims(x, axis=0)\n",
        "    x = preprocess_input(x)\n",
        "    feat = model.predict(x)\n",
        "    # Flatten(feat)\n",
        "    # features.append(feat)\n",
        "    t.append(feat.shape)\n",
        "    count += 1\n",
        "    progressBar((count*100)/total,start)\n",
        "    f_out[item.replace(\"/\", \"_\")] = np.array(feat)\n",
        "\n",
        "f_out.close()"
      ]
    },
    {
      "cell_type": "code",
      "execution_count": 30,
      "metadata": {
        "id": "po5gxqPGGPAv"
      },
      "outputs": [],
      "source": [
        "f_out.close()"
      ]
    },
    {
      "cell_type": "code",
      "execution_count": null,
      "metadata": {
        "colab": {
          "base_uri": "https://localhost:8080/"
        },
        "id": "n00TBTQ7vUlG",
        "outputId": "76978937-1471-45ef-a230-e398ebe7772e"
      },
      "outputs": [
        {
          "data": {
            "text/plain": [
              "[(1, 7, 7, 512)]"
            ]
          },
          "execution_count": 18,
          "metadata": {},
          "output_type": "execute_result"
        }
      ],
      "source": [
        "t = list(set(t))\n",
        "t"
      ]
    },
    {
      "cell_type": "code",
      "execution_count": null,
      "metadata": {
        "colab": {
          "base_uri": "https://localhost:8080/",
          "height": 36
        },
        "id": "UAkA2kmQ468R",
        "outputId": "7828db85-3c06-4c39-fe5d-28b844892784"
      },
      "outputs": [
        {
          "data": {
            "text/plain": [
              "'8035 images found'"
            ]
          },
          "execution_count": 19,
          "metadata": {},
          "output_type": "execute_result"
        }
      ],
      "source": [
        "str(count) + \" images found\""
      ]
    }
  ],
  "metadata": {
    "accelerator": "GPU",
    "colab": {
      "provenance": []
    },
    "kernelspec": {
      "display_name": "Python 3.10.4 64-bit",
      "language": "python",
      "name": "python3"
    },
    "language_info": {
      "codemirror_mode": {
        "name": "ipython",
        "version": 3
      },
      "file_extension": ".py",
      "mimetype": "text/x-python",
      "name": "python",
      "nbconvert_exporter": "python",
      "pygments_lexer": "ipython3",
      "version": "3.10.4"
    },
    "vscode": {
      "interpreter": {
        "hash": "54382ae67bf97b4da5fbc6bddc0d7ed644b3797b6f0fd66a4d7a68da377cfe58"
      }
    }
  },
  "nbformat": 4,
  "nbformat_minor": 0
}
